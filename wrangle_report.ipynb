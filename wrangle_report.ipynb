{
 "cells": [
  {
   "cell_type": "markdown",
   "metadata": {},
   "source": [
    "##  Wrangle Report"
   ]
  },
  {
   "cell_type": "markdown",
   "metadata": {},
   "source": [
    "- The dataset wrangled in the project is the tweet archive of Twitter user @dog_rates, also known as WeRateDogs. WeRateDogs is a Twitter account that rates people's dogs with a humorous comment about the dog."
   ]
  },
  {
   "cell_type": "markdown",
   "metadata": {},
   "source": [
    "### The WeRateDogs Twitter project goals included:\n",
    "- Wrangling the twitter data through the following processes:\n",
    "     - Gathering data \n",
    "     - Assessing data\n",
    "     - Cleaning data \n",
    "- Storing, analyzing, and visualizing your wrangled data \n",
    "- Reporting on the data wrangling efforts and data analyses and visualizations"
   ]
  },
  {
   "cell_type": "markdown",
   "metadata": {},
   "source": [
    "### Gathering Data\n",
    "- Gathering Data for this Project involved obtaining three different datasets from three different sources. Each one testing a different way of obtaining a dataset.\n",
    "- The first was to download a file manually and be able to open a csv file. In this case the file was called twitter_archive_enhanced.csv and was the file consisting of the largest amount of data.\n",
    "- The second was to be able to download a file programmatically using Python Requests library. The file contained image predictions on the breed of the dog coming from a neural network on some of the tweets already downloaded in the archive file. The file was in tsv format and tested your ability to open this type of file successfully.\n",
    "- The final dataset tested your ability to query Twitter’s API and use a Python library called Tweepy to obtain further data on the tweets in the archive file using the tweet id. The Tweepy library returned the data in json format, from which it was possible to iterate through and append data to a file as a list of dictionaries and then a pandas data frame. A copy was saved in csv format of the data frame created."
   ]
  },
  {
   "cell_type": "markdown",
   "metadata": {},
   "source": [
    "### Assessing Data\n",
    "- Once the data was gathered, I began to assess the data on both quality and tidiness issues.Each of the data frames were evaluaated visually and programmatically. The following quality and tidiness issues were observedthe retweet and during the assessment.\n",
    "#### Tidiness Issues\n",
    "\n",
    "- Merging the three DataFrames into one master DataFrame.\n",
    "- The columns (doggo, floofer, pupper and puppo) do not need to be separated. Each dog will be classified as one of these classifications. It is better to create one column for dog classification that contains the values (doggo, floofer, pupper and puppo).\n",
    "#### Quality Issues\n",
    "- wrong data types (tweet_id need to convert it to string)\n",
    "- wrong data types (timestamp need to convert it to datetime)\n",
    "- Reducing the 3 columns that predict the Breed of the dog in the table then drop('img_num','p1','p1_conf','p1_dog','p2','p2_conf','p2_dog','p3','p3_conf','p3_dog') columns as we no loger need them.\n",
    "- remove the tweets that has no image.\n",
    "- removed retweets since they are essentially duplicates of the actual tweets then delete the columns related to retweets from the master dataframefirst_archive_master_df.\n",
    "- removed replies since they are not the actual tweets then delete the columns related to replies from the master dataframefirst_archive_master_df.\n",
    "- in name column, there are several values that are not dog names, like 'a', 'the', 'such', etc. all of these observations have lowercase characters.\n",
    "- Ratings with decimal values incorrectly extracted for example 9.75/10 Currently, the value 75 would be captured as the rating numerator.\n",
    "- source data column is not clear."
   ]
  },
  {
   "cell_type": "markdown",
   "metadata": {},
   "source": [
    "### Cleaning Data\n",
    "- After the assessment, I cleaned the data through the following means:\n",
    "     - Define, Code and Test\n",
    "- Merging the three DataFrames into one master DataFrame.\n",
    "- Make one column for dog stage (doggo, floofer, pupper, and puppo) by saving value ('None' if no dog stage given). Also record if there are multiple dog stages, separating by a comma.\n",
    "- convert tweet_id to string\n",
    "- convert timestamp to datetime\n",
    "- Reducing the 3 columns that predict the Breed of the dog in the image.\n",
    "- removing tweets that has no image.\n",
    "- removing rows that have non-empty retweeted_status_id, retweeted_status_user_id, and retweeted_status_timestamp\n",
    "- deleting the columns related to retweets from the master  dataframefirst_archive_master_df.\n",
    "- deleting the columns related to replies from the master dataframefirst_archive_master_df.\n",
    "- deleting the columns related to replies from the master dataframefirst_archive_master_df.\n",
    "- Change dog names in names column.\n",
    "- Getting the decimal ratings by matching the text pattern \"#.#/#\" and save as new rating (only denominators had decimals)\n",
    "- Shorten data in source column by using regex library\n"
   ]
  },
  {
   "cell_type": "code",
   "execution_count": null,
   "metadata": {},
   "outputs": [],
   "source": []
  }
 ],
 "metadata": {
  "kernelspec": {
   "display_name": "Python 3",
   "language": "python",
   "name": "python3"
  },
  "language_info": {
   "codemirror_mode": {
    "name": "ipython",
    "version": 3
   },
   "file_extension": ".py",
   "mimetype": "text/x-python",
   "name": "python",
   "nbconvert_exporter": "python",
   "pygments_lexer": "ipython3",
   "version": "3.6.3"
  }
 },
 "nbformat": 4,
 "nbformat_minor": 2
}
